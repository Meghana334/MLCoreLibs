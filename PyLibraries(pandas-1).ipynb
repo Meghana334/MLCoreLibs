{
 "cells": [
  {
   "cell_type": "markdown",
   "id": "8f4de9ac",
   "metadata": {},
   "source": [
    "# pandas"
   ]
  },
  {
   "cell_type": "code",
   "execution_count": null,
   "id": "7ae22f32",
   "metadata": {},
   "outputs": [],
   "source": [
    "-Series\n",
    "-form of sequential one-dimentional array\n",
    "-all the elements one data type\n",
    "-can be created from lists,tuples and array"
   ]
  },
  {
   "cell_type": "code",
   "execution_count": 3,
   "id": "cb02a975",
   "metadata": {},
   "outputs": [],
   "source": [
    "import numpy as np\n",
    "import pandas as pd"
   ]
  },
  {
   "cell_type": "code",
   "execution_count": 2,
   "id": "bce3500c",
   "metadata": {},
   "outputs": [
    {
     "data": {
      "text/plain": [
       "0    M\n",
       "1    F\n",
       "2    M\n",
       "3    M\n",
       "4    F\n",
       "dtype: object"
      ]
     },
     "execution_count": 2,
     "metadata": {},
     "output_type": "execute_result"
    }
   ],
   "source": [
    "pd.Series([\"M\",\"F\",\"M\",\"M\",\"F\"])"
   ]
  },
  {
   "cell_type": "code",
   "execution_count": 4,
   "id": "90c37395",
   "metadata": {},
   "outputs": [
    {
     "data": {
      "text/plain": [
       "pandas.core.series.Series"
      ]
     },
     "execution_count": 4,
     "metadata": {},
     "output_type": "execute_result"
    }
   ],
   "source": [
    "gen=pd.Series(np.array([\"M\",\"F\",\"M\",\"M\",\"F\"]))\n",
    "type(gen)"
   ]
  },
  {
   "cell_type": "code",
   "execution_count": 5,
   "id": "bbf7116c",
   "metadata": {},
   "outputs": [],
   "source": [
    "dic={\"a\":1,\"b\":2,\"c\":3,4:15}\n",
    "dic_1=pd.Series(dic)"
   ]
  },
  {
   "cell_type": "code",
   "execution_count": 6,
   "id": "65d57539",
   "metadata": {},
   "outputs": [
    {
     "data": {
      "text/plain": [
       "dict"
      ]
     },
     "execution_count": 6,
     "metadata": {},
     "output_type": "execute_result"
    }
   ],
   "source": [
    "type(dic)"
   ]
  },
  {
   "cell_type": "code",
   "execution_count": 8,
   "id": "6e8ddf4c",
   "metadata": {},
   "outputs": [
    {
     "data": {
      "text/plain": [
       "pandas.core.series.Series"
      ]
     },
     "execution_count": 8,
     "metadata": {},
     "output_type": "execute_result"
    }
   ],
   "source": [
    "type(dic_1)"
   ]
  },
  {
   "cell_type": "code",
   "execution_count": 9,
   "id": "0470ddcb",
   "metadata": {},
   "outputs": [
    {
     "data": {
      "text/plain": [
       "Index(['a', 'b', 'c', 4], dtype='object')"
      ]
     },
     "execution_count": 9,
     "metadata": {},
     "output_type": "execute_result"
    }
   ],
   "source": [
    "dic_1.index"
   ]
  },
  {
   "cell_type": "code",
   "execution_count": 10,
   "id": "58fef5ca",
   "metadata": {},
   "outputs": [
    {
     "data": {
      "text/plain": [
       "array([ 1,  2,  3, 15], dtype=int64)"
      ]
     },
     "execution_count": 10,
     "metadata": {},
     "output_type": "execute_result"
    }
   ],
   "source": [
    "dic_1.values"
   ]
  },
  {
   "cell_type": "code",
   "execution_count": 21,
   "id": "0c4c17a4",
   "metadata": {},
   "outputs": [
    {
     "data": {
      "text/plain": [
       "RangeIndex(start=0, stop=5, step=1)"
      ]
     },
     "execution_count": 21,
     "metadata": {},
     "output_type": "execute_result"
    }
   ],
   "source": [
    "list_1=[2023,26,\"latha\",100,True]\n",
    "Ser=pd.Series(list_1)\n",
    "Ser\n",
    "Ser.index"
   ]
  },
  {
   "cell_type": "code",
   "execution_count": null,
   "id": "e5d5fd8a",
   "metadata": {},
   "outputs": [],
   "source": [
    "-DataFrames\n",
    "--two dimentional data structure that can be store various types of data"
   ]
  },
  {
   "cell_type": "code",
   "execution_count": 27,
   "id": "dac7c18b",
   "metadata": {},
   "outputs": [],
   "source": [
    "import numpy as np\n",
    "import pandas as pd"
   ]
  },
  {
   "cell_type": "code",
   "execution_count": 28,
   "id": "fbf5b516",
   "metadata": {},
   "outputs": [],
   "source": [
    "ser1=pd.Series([0,1,2],index=[\"cricket\",\"football\",\"baseball\"])"
   ]
  },
  {
   "cell_type": "code",
   "execution_count": 29,
   "id": "b4275a55",
   "metadata": {},
   "outputs": [],
   "source": [
    "ser2=pd.Series([11,12,13],index=[\"cricket\",\"football\",\"basketball\"])"
   ]
  },
  {
   "cell_type": "code",
   "execution_count": 30,
   "id": "f6ba4a5e",
   "metadata": {},
   "outputs": [
    {
     "data": {
      "text/plain": [
       "cricket     0\n",
       "football    1\n",
       "baseball    2\n",
       "dtype: int64"
      ]
     },
     "execution_count": 30,
     "metadata": {},
     "output_type": "execute_result"
    }
   ],
   "source": [
    "ser1"
   ]
  },
  {
   "cell_type": "code",
   "execution_count": 31,
   "id": "e2cad585",
   "metadata": {},
   "outputs": [
    {
     "data": {
      "text/plain": [
       "cricket       11\n",
       "football      12\n",
       "basketball    13\n",
       "dtype: int64"
      ]
     },
     "execution_count": 31,
     "metadata": {},
     "output_type": "execute_result"
    }
   ],
   "source": [
    "ser2"
   ]
  },
  {
   "cell_type": "code",
   "execution_count": 32,
   "id": "94268315",
   "metadata": {},
   "outputs": [
    {
     "data": {
      "text/plain": [
       "baseball       NaN\n",
       "basketball     NaN\n",
       "cricket       11.0\n",
       "football      13.0\n",
       "dtype: float64"
      ]
     },
     "execution_count": 32,
     "metadata": {},
     "output_type": "execute_result"
    }
   ],
   "source": [
    "ser1+ser2"
   ]
  },
  {
   "cell_type": "code",
   "execution_count": 33,
   "id": "e806eab8",
   "metadata": {},
   "outputs": [
    {
     "data": {
      "text/plain": [
       "3"
      ]
     },
     "execution_count": 33,
     "metadata": {},
     "output_type": "execute_result"
    }
   ],
   "source": [
    "ser1.sum()"
   ]
  },
  {
   "cell_type": "code",
   "execution_count": 34,
   "id": "d25a8173",
   "metadata": {},
   "outputs": [
    {
     "data": {
      "text/plain": [
       "36"
      ]
     },
     "execution_count": 34,
     "metadata": {},
     "output_type": "execute_result"
    }
   ],
   "source": [
    "ser2.sum()"
   ]
  },
  {
   "cell_type": "code",
   "execution_count": 37,
   "id": "951644a9",
   "metadata": {},
   "outputs": [
    {
     "data": {
      "text/plain": [
       "1.0"
      ]
     },
     "execution_count": 37,
     "metadata": {},
     "output_type": "execute_result"
    }
   ],
   "source": [
    "ser1.mean()"
   ]
  },
  {
   "cell_type": "code",
   "execution_count": 36,
   "id": "baab14d8",
   "metadata": {},
   "outputs": [
    {
     "data": {
      "text/plain": [
       "12.0"
      ]
     },
     "execution_count": 36,
     "metadata": {},
     "output_type": "execute_result"
    }
   ],
   "source": [
    "ser2.median()"
   ]
  },
  {
   "cell_type": "code",
   "execution_count": 38,
   "id": "c5c6fed5",
   "metadata": {},
   "outputs": [
    {
     "data": {
      "text/plain": [
       "12.0"
      ]
     },
     "execution_count": 38,
     "metadata": {},
     "output_type": "execute_result"
    }
   ],
   "source": [
    "ser2.mean()"
   ]
  },
  {
   "cell_type": "code",
   "execution_count": 39,
   "id": "12330f2c",
   "metadata": {},
   "outputs": [
    {
     "data": {
      "text/plain": [
       "1.0"
      ]
     },
     "execution_count": 39,
     "metadata": {},
     "output_type": "execute_result"
    }
   ],
   "source": [
    "ser1.median()"
   ]
  },
  {
   "cell_type": "code",
   "execution_count": 40,
   "id": "d5c8d2ff",
   "metadata": {},
   "outputs": [
    {
     "data": {
      "text/plain": [
       "0"
      ]
     },
     "execution_count": 40,
     "metadata": {},
     "output_type": "execute_result"
    }
   ],
   "source": [
    "ser1.min()"
   ]
  },
  {
   "cell_type": "code",
   "execution_count": 42,
   "id": "2fa7b72c",
   "metadata": {},
   "outputs": [
    {
     "data": {
      "text/plain": [
       "11"
      ]
     },
     "execution_count": 42,
     "metadata": {},
     "output_type": "execute_result"
    }
   ],
   "source": [
    "ser2.min()"
   ]
  },
  {
   "cell_type": "code",
   "execution_count": 43,
   "id": "5ab07102",
   "metadata": {},
   "outputs": [
    {
     "data": {
      "text/plain": [
       "2"
      ]
     },
     "execution_count": 43,
     "metadata": {},
     "output_type": "execute_result"
    }
   ],
   "source": [
    "ser1.max()"
   ]
  },
  {
   "cell_type": "code",
   "execution_count": 44,
   "id": "8b060598",
   "metadata": {},
   "outputs": [
    {
     "data": {
      "text/plain": [
       "13"
      ]
     },
     "execution_count": 44,
     "metadata": {},
     "output_type": "execute_result"
    }
   ],
   "source": [
    "ser2.max()"
   ]
  },
  {
   "cell_type": "code",
   "execution_count": 45,
   "id": "c9a9de37",
   "metadata": {},
   "outputs": [
    {
     "data": {
      "text/plain": [
       "1.0"
      ]
     },
     "execution_count": 45,
     "metadata": {},
     "output_type": "execute_result"
    }
   ],
   "source": [
    "ser1.var()"
   ]
  },
  {
   "cell_type": "code",
   "execution_count": 46,
   "id": "47e5d5bd",
   "metadata": {},
   "outputs": [
    {
     "data": {
      "text/plain": [
       "1.0"
      ]
     },
     "execution_count": 46,
     "metadata": {},
     "output_type": "execute_result"
    }
   ],
   "source": [
    "ser2.var()"
   ]
  },
  {
   "cell_type": "code",
   "execution_count": 47,
   "id": "53f56842",
   "metadata": {},
   "outputs": [
    {
     "data": {
      "text/plain": [
       "count    3.0\n",
       "mean     1.0\n",
       "std      1.0\n",
       "min      0.0\n",
       "25%      0.5\n",
       "50%      1.0\n",
       "75%      1.5\n",
       "max      2.0\n",
       "dtype: float64"
      ]
     },
     "execution_count": 47,
     "metadata": {},
     "output_type": "execute_result"
    }
   ],
   "source": [
    "ser1.describe()"
   ]
  },
  {
   "cell_type": "code",
   "execution_count": 48,
   "id": "f63f1970",
   "metadata": {},
   "outputs": [
    {
     "data": {
      "text/plain": [
       "count     3.0\n",
       "mean     12.0\n",
       "std       1.0\n",
       "min      11.0\n",
       "25%      11.5\n",
       "50%      12.0\n",
       "75%      12.5\n",
       "max      13.0\n",
       "dtype: float64"
      ]
     },
     "execution_count": 48,
     "metadata": {},
     "output_type": "execute_result"
    }
   ],
   "source": [
    "ser2.describe()"
   ]
  },
  {
   "cell_type": "code",
   "execution_count": 1,
   "id": "a73d6095",
   "metadata": {},
   "outputs": [],
   "source": [
    "import pandas as pd"
   ]
  },
  {
   "cell_type": "code",
   "execution_count": 2,
   "id": "bd155c17",
   "metadata": {},
   "outputs": [],
   "source": [
    "employee={'number':[1,2,3,4,5],'name':[\"abby\",\"john\",\"lina\",\"marc\",\"bob\"],'hourly salary':[15,25,36,34,56]}"
   ]
  },
  {
   "cell_type": "code",
   "execution_count": 3,
   "id": "964b9cf8",
   "metadata": {},
   "outputs": [
    {
     "name": "stdout",
     "output_type": "stream",
     "text": [
      "{'number': [1, 2, 3, 4, 5], 'name': ['abby', 'john', 'lina', 'marc', 'bob'], 'hourly salary': [15, 25, 36, 34, 56]}\n"
     ]
    }
   ],
   "source": [
    "print(employee)"
   ]
  },
  {
   "cell_type": "code",
   "execution_count": 5,
   "id": "c262912c",
   "metadata": {},
   "outputs": [
    {
     "name": "stdout",
     "output_type": "stream",
     "text": [
      "   number  name  hourly salary\n",
      "0       1  abby             15\n",
      "1       2  john             25\n",
      "2       3  lina             36\n",
      "3       4  marc             34\n",
      "4       5   bob             56\n"
     ]
    }
   ],
   "source": [
    "import pandas as pd\n",
    "employee={'number':[1,2,3,4,5],'name':[\"abby\",\"john\",\"lina\",\"marc\",\"bob\"],'hourly salary':[15,25,36,34,56]}\n",
    "table1=pd.DataFrame(employee)\n",
    "print(table1)"
   ]
  },
  {
   "cell_type": "markdown",
   "id": "9cf79343",
   "metadata": {},
   "source": [
    "### slicing"
   ]
  },
  {
   "cell_type": "code",
   "execution_count": 6,
   "id": "11447017",
   "metadata": {},
   "outputs": [
    {
     "name": "stdout",
     "output_type": "stream",
     "text": [
      "   number  name  hourly salary\n",
      "0       1  abby             15\n"
     ]
    }
   ],
   "source": [
    "print(table1.head(1))"
   ]
  },
  {
   "cell_type": "code",
   "execution_count": 7,
   "id": "fa48c546",
   "metadata": {},
   "outputs": [
    {
     "name": "stdout",
     "output_type": "stream",
     "text": [
      "   number  name  hourly salary\n",
      "0       1  abby             15\n",
      "1       2  john             25\n",
      "2       3  lina             36\n"
     ]
    }
   ],
   "source": [
    "print(table1.head(3))"
   ]
  },
  {
   "cell_type": "code",
   "execution_count": 9,
   "id": "135ff2a1",
   "metadata": {},
   "outputs": [
    {
     "name": "stdout",
     "output_type": "stream",
     "text": [
      "   number name  hourly salary\n",
      "4       5  bob             56\n"
     ]
    }
   ],
   "source": [
    "print(table1.tail(1))"
   ]
  },
  {
   "cell_type": "code",
   "execution_count": 10,
   "id": "62b6845d",
   "metadata": {},
   "outputs": [
    {
     "name": "stdout",
     "output_type": "stream",
     "text": [
      "   number  name  hourly salary\n",
      "2       3  lina             36\n",
      "3       4  marc             34\n",
      "4       5   bob             56\n"
     ]
    }
   ],
   "source": [
    "print(table1.tail(3))"
   ]
  },
  {
   "cell_type": "markdown",
   "id": "05a75081",
   "metadata": {},
   "source": [
    "### merge dataframes(same data only prints)"
   ]
  },
  {
   "cell_type": "code",
   "execution_count": 12,
   "id": "b465eabf",
   "metadata": {},
   "outputs": [
    {
     "name": "stdout",
     "output_type": "stream",
     "text": [
      "   number     name  price\n",
      "0       1    apple      2\n",
      "1       2   banana      3\n",
      "2       3    chips      4\n",
      "3       4  popcorn      8\n",
      "4       5    pizza      6\n"
     ]
    }
   ],
   "source": [
    "import pandas as pd\n",
    "food1={\"number\":[1,2,3,4,5],\"name\":[\"apple\",\"banana\",\"chips\",\"popcorn\",\"pizza\"],\"price\":[2,3,4,8,6]}\n",
    "food2={\"number\":[1,2,3,4,5],\"name\":[\"apple\",\"banana\",\"chips\",\"popcorn\",\"pizza\"],\"price\":[2,3,4,8,6]}\n",
    "table1=pd.DataFrame(food1)\n",
    "table2=pd.DataFrame(food2)\n",
    "fusion=pd.merge(table1,table2)\n",
    "print(fusion)"
   ]
  },
  {
   "cell_type": "code",
   "execution_count": 14,
   "id": "5e7aeab5",
   "metadata": {},
   "outputs": [
    {
     "name": "stdout",
     "output_type": "stream",
     "text": [
      "   number_x   name_x  price  number_y   name_y\n",
      "0         3    chips      4         4  popcorn\n",
      "1         4  popcorn      8         1     corn\n",
      "2         4  popcorn      8         3    chips\n",
      "3         5    pizza      6         2    beans\n",
      "4         5    pizza      6         5    pizza\n"
     ]
    }
   ],
   "source": [
    "import pandas as pd\n",
    "food1={\"number\":[1,2,3,4,5],\"name\":[\"apple\",\"banana\",\"chips\",\"popcorn\",\"pizza\"],\"price\":[2,3,4,8,6]}\n",
    "food2={\"number\":[1,2,3,4,5],\"name\":[\"corn\",\"beans\",\"chips\",\"popcorn\",\"pizza\"],\"price\":[8,6,8,4,6]}\n",
    "table1=pd.DataFrame(food1)\n",
    "table2=pd.DataFrame(food2)\n",
    "fusion=pd.merge(table1,table2,on=\"price\")\n",
    "print(fusion)"
   ]
  },
  {
   "cell_type": "markdown",
   "id": "ecbb5eb6",
   "metadata": {},
   "source": [
    "### joining two databases"
   ]
  },
  {
   "cell_type": "code",
   "execution_count": 15,
   "id": "96ec0888",
   "metadata": {},
   "outputs": [],
   "source": [
    "import pandas as pd"
   ]
  },
  {
   "cell_type": "code",
   "execution_count": 17,
   "id": "9d274572",
   "metadata": {},
   "outputs": [
    {
     "name": "stdout",
     "output_type": "stream",
     "text": [
      "   number     name  price  colors  weight  quantity\n",
      "0       1  popcorn      2     red     100         1\n",
      "1       2    pizza      6    blue     250         2\n",
      "2       3    chips      5  yellow     300         1\n",
      "3       4   banana      7   green     180         3\n",
      "4       5    apple      4  orange     290         4\n"
     ]
    }
   ],
   "source": [
    "food1={\"number\":[1,2,3,4,5],\"name\":[\"popcorn\",\"pizza\",\"chips\",\"banana\",\"apple\"],\"price\":[2,6,5,7,4]}\n",
    "food2={\"colors\":[\"red\",\"blue\",\"yellow\",\"green\",\"orange\"],\"weight\":[100,250,300,180,290],\"quantity\":[1,2,1,3,4]}\n",
    "table1=pd.DataFrame(food1)\n",
    "table2=pd.DataFrame(food2)\n",
    "fusion=table1.join(table2)\n",
    "print(fusion)"
   ]
  },
  {
   "cell_type": "code",
   "execution_count": null,
   "id": "3f189690",
   "metadata": {},
   "outputs": [],
   "source": []
  }
 ],
 "metadata": {
  "kernelspec": {
   "display_name": "Python 3 (ipykernel)",
   "language": "python",
   "name": "python3"
  },
  "language_info": {
   "codemirror_mode": {
    "name": "ipython",
    "version": 3
   },
   "file_extension": ".py",
   "mimetype": "text/x-python",
   "name": "python",
   "nbconvert_exporter": "python",
   "pygments_lexer": "ipython3",
   "version": "3.9.13"
  }
 },
 "nbformat": 4,
 "nbformat_minor": 5
}
